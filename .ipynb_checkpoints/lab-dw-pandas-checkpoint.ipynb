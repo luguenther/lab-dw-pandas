{
 "cells": [
  {
   "cell_type": "markdown",
   "id": "25d7736c-ba17-4aff-b6bb-66eba20fbf4e",
   "metadata": {},
   "source": [
    "# Lab | Pandas"
   ]
  },
  {
   "cell_type": "markdown",
   "id": "d1973e9e-8be6-4039-b70e-d73ee0d94c99",
   "metadata": {},
   "source": [
    "In this lab, we will be working with the customer data from an insurance company, which can be found in the CSV file located at the following link: https://raw.githubusercontent.com/data-bootcamp-v4/data/main/file1.csv\n",
    "\n",
    "The data includes information such as customer ID, state, gender, education, income, and other variables that can be used to perform various analyses.\n",
    "\n",
    "Throughout the lab, we will be using the pandas library in Python to manipulate and analyze the data. Pandas is a powerful library that provides various data manipulation and analysis tools, including the ability to load and manipulate data from a variety of sources, including CSV files."
   ]
  },
  {
   "cell_type": "markdown",
   "id": "8045146f-f4f7-44d9-8cd9-130d6400c73a",
   "metadata": {},
   "source": [
    "### Data Description\n",
    "\n",
    "- Customer - Customer ID\n",
    "\n",
    "- ST - State where customers live\n",
    "\n",
    "- Gender - Gender of the customer\n",
    "\n",
    "- Education - Background education of customers \n",
    "\n",
    "- Customer Lifetime Value - Customer lifetime value(CLV) is the total revenue the client will derive from their entire relationship with a customer. In other words, is the predicted or calculated value of a customer over their entire duration as a policyholder with the insurance company. It is an estimation of the net profit that the insurance company expects to generate from a customer throughout their relationship with the company. Customer Lifetime Value takes into account factors such as the duration of the customer's policy, premium payments, claim history, renewal likelihood, and potential additional services or products the customer may purchase. It helps insurers assess the long-term profitability and value associated with retaining a particular customer.\n",
    "\n",
    "- Income - Customers income\n",
    "\n",
    "- Monthly Premium Auto - Amount of money the customer pays on a monthly basis as a premium for their auto insurance coverage. It represents the recurring cost that the insured person must pay to maintain their insurance policy and receive coverage for potential damages, accidents, or other covered events related to their vehicle.\n",
    "\n",
    "- Number of Open Complaints - Number of complaints the customer opened\n",
    "\n",
    "- Policy Type - There are three type of policies in car insurance (Corporate Auto, Personal Auto, and Special Auto)\n",
    "\n",
    "- Vehicle Class - Type of vehicle classes that customers have Two-Door Car, Four-Door Car SUV, Luxury SUV, Sports Car, and Luxury Car\n",
    "\n",
    "- Total Claim Amount - the sum of all claims made by the customer. It represents the total monetary value of all approved claims for incidents such as accidents, theft, vandalism, or other covered events.\n"
   ]
  },
  {
   "cell_type": "markdown",
   "id": "3a72419b-20fc-4905-817a-8c83abc59de6",
   "metadata": {},
   "source": [
    "External Resources: https://towardsdatascience.com/filtering-data-frames-in-pandas-b570b1f834b9"
   ]
  },
  {
   "cell_type": "markdown",
   "id": "8f8ece17-e919-4e23-96c0-c7c59778436a",
   "metadata": {},
   "source": [
    "## Challenge 1: Understanding the data\n",
    "\n",
    "In this challenge, you will use pandas to explore a given dataset. Your task is to gain a deep understanding of the data by analyzing its characteristics, dimensions, and statistical properties."
   ]
  },
  {
   "cell_type": "markdown",
   "id": "91437bd5-59a6-49c0-8150-ef0e6e6eb253",
   "metadata": {},
   "source": [
    "- Identify the dimensions of the dataset by determining the number of rows and columns it contains.\n",
    "- Determine the data types of each column and evaluate whether they are appropriate for the nature of the variable. You should also provide suggestions for fixing any incorrect data types.\n",
    "- Identify the number of unique values for each column and determine which columns appear to be categorical. You should also describe the unique values of each categorical column and the range of values for numerical columns, and give your insights.\n",
    "- Compute summary statistics such as mean, median, mode, standard deviation, and quartiles to understand the central tendency and distribution of the data for numerical columns. You should also provide your conclusions based on these summary statistics.\n",
    "- Compute summary statistics for categorical columns and providing your conclusions based on these statistics."
   ]
  },
  {
   "cell_type": "code",
   "execution_count": 244,
   "id": "dd4e8cd8-a6f6-486c-a5c4-1745b0c035f4",
   "metadata": {},
   "outputs": [
    {
     "name": "stdout",
     "output_type": "stream",
     "text": [
      "Insurance_df has 4008 rows, and 11 columns\n",
      "\n",
      "The number of dimensions is: 2\n",
      "\n",
      "Customer                      object\n",
      "ST                            object\n",
      "GENDER                        object\n",
      "Education                     object\n",
      "Customer Lifetime Value       object\n",
      "Income                       float64\n",
      "Monthly Premium Auto         float64\n",
      "Number of Open Complaints     object\n",
      "Policy Type                   object\n",
      "Vehicle Class                 object\n",
      "Total Claim Amount           float64\n",
      "dtype: object\n",
      "\n",
      "\n",
      "The number of unique values for each column is\n",
      "\n",
      "Customer                     1071\n",
      "ST                              8\n",
      "GENDER                          5\n",
      "Education                       6\n",
      "Customer Lifetime Value      1027\n",
      "Income                        774\n",
      "Monthly Premium Auto          132\n",
      "Number of Open Complaints       6\n",
      "Policy Type                     3\n",
      "Vehicle Class                   6\n",
      "Total Claim Amount            761\n",
      "dtype: int64\n",
      "\n",
      "\n",
      "These columns appear to be categorical:\n",
      "\n",
      " Customer\n",
      " ST\n",
      " GENDER\n",
      " Education\n",
      " Customer Lifetime Value\n",
      " Number of Open Complaints\n",
      " Policy Type\n",
      " Vehicle Class\n",
      "\n",
      "\n",
      "The number of unique values for each categorical column is\n",
      "\n",
      "Customer                     1071\n",
      "ST                              8\n",
      "GENDER                          5\n",
      "Education                       6\n",
      "Customer Lifetime Value      1027\n",
      "Number of Open Complaints       6\n",
      "Policy Type                     3\n",
      "Vehicle Class                   6\n",
      "dtype: int64\n",
      "\n",
      "\n",
      "The range of values for numerical columns are:\n",
      "\n",
      "Range of values for 'Income': 0.0 to 99960.0 (Range: 99960.0)\n",
      "Range of values for 'Monthly Premium Auto': 61.0 to 35354.0 (Range: 35293.0)\n",
      "Range of values for 'Total Claim Amount': 0.382107 to 2893.239678 (Range: 2892.857571)\n",
      "\n",
      "\n",
      "Summary statistics for numerical categories:\n",
      "\n",
      "             Income  Monthly Premium Auto  Total Claim Amount\n",
      "count   1071.000000           1071.000000         1071.000000\n",
      "mean   39295.701214            193.234360          404.986909\n",
      "std    30469.427060           1601.190369          293.027260\n",
      "min        0.000000             61.000000            0.382107\n",
      "25%    14072.000000             68.000000          202.157702\n",
      "50%    36234.000000             83.000000          354.729129\n",
      "75%    64631.000000            109.500000          532.800000\n",
      "max    99960.000000          35354.000000         2893.239678\n",
      "\n",
      "\n",
      "Summary statistics for categorical categories:\n",
      "\n",
      "       Customer      ST GENDER Education    Policy Type  Vehicle Class\n",
      "count      1071    1071    954      1071           1071           1071\n",
      "unique     1071       8      5         6              3              6\n",
      "top     RB50392  Oregon      F  Bachelor  Personal Auto  Four-Door Car\n",
      "freq          1     320    457       324            780            576\n",
      "\n",
      "\n"
     ]
    }
   ],
   "source": [
    "import pandas as pd\n",
    "\n",
    "# Load the data set\n",
    "url = 'https://raw.githubusercontent.com/data-bootcamp-v4/data/main/file1.csv'\n",
    "insurance_df = pd.read_csv(url)\n",
    "insurance_df\n",
    "\n",
    "\n",
    "# Identify dimensions by determining number of rows and columns\n",
    "insurance_df.shape\n",
    "print(f\"Insurance_df has {insurance_df.shape[0]} rows, and {insurance_df.shape[1]} columns\\n\")\n",
    "print (f\"The number of dimensions is: {insurance_df.ndim}\\n\")\n",
    "\n",
    "\n",
    "# data type of each column, sugestions to fix incorrerct data types\n",
    "print (insurance_df.dtypes)\n",
    "print ('\\n')\n",
    "\n",
    "# I would change the data type of open complaints and customer life time value from an object to an integer\n",
    "\n",
    "\n",
    "# number of unique values of each column\n",
    "print (f\"The number of unique values for each column is\\n\") \n",
    "print (insurance_df.nunique())\n",
    "print ('\\n')\n",
    "\n",
    "# which columns appear to be categorical\n",
    "print (f\"These columns appear to be categorical:\\n\") \n",
    "for col in insurance_df.select_dtypes(include='object').columns:\n",
    "    print(f\" {col}\")\n",
    "\n",
    "print ('\\n')\n",
    "\n",
    "\n",
    "# unique values of each categorical column\n",
    "print (f\"The number of unique values for each categorical column is\\n\") \n",
    "print (insurance_df [['Customer', 'ST','GENDER', 'Education', 'Customer Lifetime Value', 'Number of Open Complaints', 'Policy Type', 'Vehicle Class']].nunique())\n",
    "print ('\\n')\n",
    "\n",
    "# range of values for numerical columns\n",
    "print (f\"The range of values for numerical columns are:\\n\") \n",
    "\n",
    "num_columns = ['Income','Monthly Premium Auto','Total Claim Amount']\n",
    "\n",
    "for col in num_columns:\n",
    "    min_val = insurance_df[col].min()\n",
    "    max_val = insurance_df[col].max()\n",
    "    print(f\"Range of values for '{col}': {min_val} to {max_val} (Range: {max_val - min_val})\")\n",
    "print ('\\n')\n",
    "\n",
    "# Compute summary statistics (mean, mediam, mode, std, etc.) for numerical categories\n",
    "print (\"Summary statistics for numerical categories:\\n\")\n",
    "print (insurance_df.describe())\n",
    "print ('\\n')\n",
    "\n",
    "\n",
    "# Compute summmary statistics for categorical columns\n",
    "print (\"Summary statistics for categorical categories:\\n\")\n",
    "print (insurance_df [['Customer', 'ST','GENDER', 'Education', 'Policy Type', 'Vehicle Class']].describe())\n",
    "print ('\\n')\n"
   ]
  },
  {
   "cell_type": "markdown",
   "id": "4a703890-63db-4944-b7ab-95a4f8185120",
   "metadata": {},
   "source": [
    "## Challenge 2: analyzing the data"
   ]
  },
  {
   "cell_type": "markdown",
   "id": "0776a403-c56a-452f-ac33-5fd4fdb06fc7",
   "metadata": {},
   "source": [
    "### Exercise 1"
   ]
  },
  {
   "cell_type": "markdown",
   "id": "eedbc484-da4d-4f9c-9343-e1d44311a87e",
   "metadata": {},
   "source": [
    "The marketing team wants to know the top 5 less common customer locations. Create a pandas Series object that contains the customer locations and their frequencies, and then retrieve the top 5 less common locations in ascending order."
   ]
  },
  {
   "cell_type": "code",
   "execution_count": null,
   "id": "2dca5073-4520-4f42-9390-4b92733284ed",
   "metadata": {},
   "outputs": [],
   "source": [
    "import pandas as pd\n",
    "\n",
    "# Load the dataset\n",
    "url = 'https://raw.githubusercontent.com/data-bootcamp-v4/data/main/file1.csv'\n",
    "insurance_df = pd.read_csv(url)\n",
    "\n",
    "# Create a pandas Series with customer locations and their frequencies\n",
    "location_counts = insurance_df['ST'].value_counts()\n",
    "\n",
    "# Identify the top 5 less common locations (smallest frequencies)\n",
    "less_common_locations = location_counts.nsmallest(5)\n",
    "\n",
    "# Display the results in ascending order of frequency\n",
    "print(\"Top 5 less common customer locations:\\n\")\n",
    "print(less_common_locations.sort_values(ascending=True))"
   ]
  },
  {
   "cell_type": "markdown",
   "id": "0ce80f43-4afa-43c7-a78a-c917444da4e0",
   "metadata": {},
   "source": [
    "### Exercise 2\n",
    "\n",
    "The sales team wants to know the total number of policies sold for each type of policy. Create a pandas Series object that contains the policy types and their total number of policies sold, and then retrieve the policy type with the highest number of policies sold."
   ]
  },
  {
   "cell_type": "markdown",
   "id": "a9f13997-1555-4f98-aca6-970fda1d2c3f",
   "metadata": {},
   "source": [
    "*Hint:*\n",
    "- *Using value_counts() method simplifies this analysis.*\n",
    "- *Futhermore, there is a method that returns the index of the maximum value in a column or row.*\n"
   ]
  },
  {
   "cell_type": "code",
   "execution_count": 246,
   "id": "bcfad6c1-9af2-4b0b-9aa9-0dc5c17473c0",
   "metadata": {},
   "outputs": [
    {
     "name": "stdout",
     "output_type": "stream",
     "text": [
      "Total number of policies sold for each type (sorted in descending order):\n",
      "\n",
      "Policy Type\n",
      "Personal Auto     780\n",
      "Corporate Auto    234\n",
      "Special Auto       57\n",
      "Name: count, dtype: int64\n",
      "\n",
      "Policy type with the highest number of policies sold: 'Personal Auto' with 780 policies.\n"
     ]
    }
   ],
   "source": [
    "import pandas as pd\n",
    "\n",
    "#policy types = number of unique elements in policy column, total number of policies sold by policy type \n",
    "policy_counts = insurance_df['Policy Type'].value_counts()\n",
    "\n",
    "#Sort numbers of policies sold in descending order, select number one\n",
    "most_common_policy = policy_counts.index[0]  # Get the first index (policy type)\n",
    "max_policies = policy_counts.iloc[0]         # Get the first value (number of policies)\n",
    "\n",
    "print(\"Total number of policies sold for each type (sorted in descending order):\\n\")\n",
    "print(policy_counts)\n",
    "\n",
    "print(f\"\\nPolicy type with the highest number of policies sold: '{most_common_policy}' with {max_policies} policies.\")\n"
   ]
  },
  {
   "cell_type": "markdown",
   "id": "0b863fd3-bf91-4d5d-86eb-be29ed9f5b70",
   "metadata": {},
   "source": [
    "### Exercise 3\n",
    "\n",
    "The sales team wants to know if customers with Personal Auto have a lower income than those with Corporate Auto. How does the average income compare between the two policy types?"
   ]
  },
  {
   "cell_type": "markdown",
   "id": "b1386d75-2810-4aa1-93e0-9485aa12d552",
   "metadata": {},
   "source": [
    "- Use *loc* to create two dataframes: one containing only Personal Auto policies and one containing only Corporate Auto policies.\n",
    "- Calculate the average income for each policy.\n",
    "- Print the results."
   ]
  },
  {
   "cell_type": "code",
   "execution_count": 248,
   "id": "0c0563cf-6f8b-463d-a321-651a972f82e5",
   "metadata": {},
   "outputs": [
    {
     "name": "stdout",
     "output_type": "stream",
     "text": [
      "Average income for Personal Auto policies: 38180.69871794872\n",
      "Average income for Corporate Auto policies: 41390.31196581197\n",
      "\n",
      "Personal Auto policy holders have a lower income than Corporate Auto policy holders.\n"
     ]
    }
   ],
   "source": [
    "import pandas as pd\n",
    "\n",
    "# Create two dataframes: Only Personal Auto policies, Only Corporate Auto policies\n",
    "only_personal = insurance_df.loc[insurance_df['Policy Type'] == 'Personal Auto']\n",
    "\n",
    "only_corporate = insurance_df.loc[insurance_df['Policy Type'] == 'Corporate Auto']\n",
    "\n",
    "# Calculate avg income for each policy\n",
    "personal_auto_income_mean = insurance_df.loc[insurance_df['Policy Type'] == 'Personal Auto', 'Income'].mean()\n",
    "print(f\"Average income for Personal Auto policies: {personal_auto_income_mean}\")\n",
    "\n",
    "corporate_auto_income_mean = insurance_df.loc[insurance_df['Policy Type'] == 'Corporate Auto', 'Income'].mean()\n",
    "print(f\"Average income for Corporate Auto policies: {corporate_auto_income_mean}\\n\")\n",
    "\n",
    "print (f\"Personal Auto policy holders have a lower income than Corporate Auto policy holders.\")"
   ]
  },
  {
   "cell_type": "markdown",
   "id": "80b16c27-f4a5-4727-a229-1f88671cf4e2",
   "metadata": {},
   "source": [
    "### Bonus: Exercise 4\n"
   ]
  },
  {
   "cell_type": "markdown",
   "id": "ac584986-299b-475f-ac2e-928c16c3f512",
   "metadata": {},
   "source": [
    "Your goal is to identify customers with a high policy claim amount.\n",
    "\n",
    "Instructions:\n",
    "\n",
    "- Review again the statistics for total claim amount to gain an understanding of the data.\n",
    "- To identify potential areas for improving customer retention and profitability, we want to focus on customers with a high policy claim amount. Consider customers with a high policy claim amount to be those in the top 25% of the total claim amount. Create a pandas DataFrame object that contains information about customers with a policy claim amount greater than the 75th percentile.\n",
    "- Use DataFrame methods to calculate summary statistics about the high policy claim amount data. "
   ]
  },
  {
   "cell_type": "markdown",
   "id": "4e3af5f1-6023-4b05-9c01-d05392daa650",
   "metadata": {},
   "source": [
    "*Note: When analyzing data, we often want to focus on certain groups of values to gain insights. Percentiles are a useful tool to help us define these groups. A percentile is a measure that tells us what percentage of values in a dataset are below a certain value. For example, the 75th percentile represents the value below which 75% of the data falls. Similarly, the 25th percentile represents the value below which 25% of the data falls. When we talk about the top 25%, we are referring to the values that fall above the 75th percentile, which represent the top quarter of the data. On the other hand, when we talk about the bottom 25%, we are referring to the values that fall below the 25th percentile, which represent the bottom quarter of the data. By focusing on these groups, we can identify patterns and trends that may be useful for making decisions and taking action.*\n",
    "\n",
    "*Hint: look for a method that gives you the percentile or quantile 0.75 and 0.25 for a Pandas Series.*"
   ]
  },
  {
   "cell_type": "markdown",
   "id": "2d234634-50bd-41e0-88f7-d5ba684455d1",
   "metadata": {},
   "source": [
    "*Hint 2: check `Boolean selection according to the values of a single column` in https://towardsdatascience.com/filtering-data-frames-in-pandas-b570b1f834b9*"
   ]
  },
  {
   "cell_type": "code",
   "execution_count": null,
   "id": "b731bca6-a760-4860-a27b-a33efa712ce0",
   "metadata": {},
   "outputs": [],
   "source": [
    "# Your code here"
   ]
  }
 ],
 "metadata": {
  "kernelspec": {
   "display_name": "Python [conda env:base] *",
   "language": "python",
   "name": "conda-base-py"
  },
  "language_info": {
   "codemirror_mode": {
    "name": "ipython",
    "version": 3
   },
   "file_extension": ".py",
   "mimetype": "text/x-python",
   "name": "python",
   "nbconvert_exporter": "python",
   "pygments_lexer": "ipython3",
   "version": "3.12.7"
  }
 },
 "nbformat": 4,
 "nbformat_minor": 5
}
